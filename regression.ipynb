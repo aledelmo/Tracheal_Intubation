{
 "cells": [
  {
   "cell_type": "code",
   "execution_count": null,
   "metadata": {
    "pycharm": {
     "name": "#%%\n"
    }
   },
   "outputs": [],
   "source": [
    "import matplotlib.pyplot as plt\n",
    "import numpy as np\n",
    "import pandas as pd\n",
    "import seaborn as sns\n",
    "\n",
    "import tensorflow as tf\n",
    "\n",
    "from tensorflow import keras\n",
    "from tensorflow.keras import layers\n",
    "from tensorflow.keras.layers.experimental import preprocessing\n",
    "\n",
    "np.set_printoptions(precision=3, suppress=True)"
   ]
  },
  {
   "cell_type": "code",
   "execution_count": null,
   "metadata": {
    "pycharm": {
     "name": "#%%\n"
    }
   },
   "outputs": [],
   "source": [
    "dataset = pd.read_csv('measurements.csv', sep=';', decimal=',')\n",
    "dataset = dataset.dropna()\n",
    "dataset.drop(dataset.columns[[0, 1, 2]], axis = 1, inplace = True) \n",
    "dataset.tail()"
   ]
  },
  {
   "cell_type": "code",
   "execution_count": null,
   "metadata": {
    "pycharm": {
     "name": "#%%\n"
    }
   },
   "outputs": [],
   "source": [
    "train_dataset = dataset.sample(frac=0.8, random_state=42)\n",
    "test_dataset = dataset.drop(train_dataset.index)\n",
    "train_dataset.describe().transpose()"
   ]
  },
  {
   "cell_type": "code",
   "execution_count": null,
   "metadata": {},
   "outputs": [],
   "source": [
    "def plot_loss(history, name):\n",
    "    plt.plot(history.history['loss'], label='mae')\n",
    "    plt.plot(history.history['val_loss'], label='val_mae')\n",
    "    #plt.ylim([0, 10])\n",
    "    plt.xlabel('Epoch')\n",
    "    plt.ylabel('Loss [' + name + ']')\n",
    "    plt.legend()\n",
    "    plt.grid(True)\n",
    "    \n",
    "def plot_rmse(history, name):\n",
    "    plt.plot(history.history['root_mean_squared_error'], label='rmse')\n",
    "    plt.plot(history.history['val_root_mean_squared_error'], label='val_rmse')\n",
    "    #plt.ylim([0, 10])\n",
    "    plt.xlabel('Epoch')\n",
    "    plt.ylabel('RMSE [' + name + ']')\n",
    "    plt.legend()\n",
    "    plt.grid(True)"
   ]
  },
  {
   "cell_type": "code",
   "execution_count": null,
   "metadata": {
    "pycharm": {
     "name": "#%%\n"
    }
   },
   "outputs": [],
   "source": [
    "train_features = train_dataset.copy()\n",
    "train_ds_glottic = train_features.drop('AP cricoïde', axis=1)\n",
    "train_target_glottic = train_ds_glottic.pop('antéro-post CV')\n",
    "\n",
    "test_features = test_dataset.copy()\n",
    "test_ds_glottic = test_features.drop('AP cricoïde', axis=1)\n",
    "test_target_glottic = test_ds_glottic.pop('antéro-post CV')"
   ]
  },
  {
   "cell_type": "code",
   "execution_count": null,
   "metadata": {},
   "outputs": [],
   "source": [
    "normalizer_glottic = preprocessing.Normalization()\n",
    "normalizer_glottic.adapt(np.array(train_ds_glottic))\n",
    "\n",
    "glottic_model = tf.keras.Sequential([\n",
    "    normalizer_glottic,\n",
    "    layers.Dense(units=64, activation='relu'),\n",
    "    layers.Dense(units=1)\n",
    "])\n",
    "\n",
    "# glottic_model.summary()\n",
    "\n",
    "glottic_model.compile(\n",
    "    optimizer=tf.optimizers.Adam(learning_rate=0.001),\n",
    "    loss='mse',\n",
    "    metrics=[tf.keras.metrics.RootMeanSquaredError(),\n",
    "            tf.keras.metrics.MeanAbsoluteError()])\n",
    "\n",
    "history = glottic_model.fit(x=train_ds_glottic, y=train_target_glottic,\n",
    "                            validation_data=(test_ds_glottic, test_target_glottic),\n",
    "                            epochs=300)"
   ]
  },
  {
   "cell_type": "code",
   "execution_count": null,
   "metadata": {},
   "outputs": [],
   "source": [
    "print('Glottic MAE_val: {}'.format(min(history.history['val_mean_absolute_error'])))\n",
    "print('Glottic RMSE_val: {}'.format(min(history.history['val_root_mean_squared_error'])))\n",
    "\n",
    "plot_loss(history, 'Glottic')\n",
    "plt.show()\n",
    "plot_rmse(history, 'Glottic')"
   ]
  },
  {
   "cell_type": "code",
   "execution_count": null,
   "metadata": {},
   "outputs": [],
   "source": [
    "train_features = train_dataset.copy()\n",
    "train_ds_cricoid = train_features.drop('antéro-post CV', axis=1)\n",
    "train_target_cricoid = train_ds_cricoid.pop('AP cricoïde')\n",
    "# train_ds_cricoid = train_ds_cricoid['age en mois']\n",
    "\n",
    "test_features = test_dataset.copy()\n",
    "test_ds_cricoid = test_features.drop('antéro-post CV', axis=1)\n",
    "test_target_cricoid = test_ds_cricoid.pop('AP cricoïde')\n",
    "# test_ds_cricoid = test_ds_cricoid['age en mois']"
   ]
  },
  {
   "cell_type": "code",
   "execution_count": null,
   "metadata": {
    "pycharm": {
     "name": "#%%\n"
    }
   },
   "outputs": [],
   "source": [
    "normalizer_cricoid = preprocessing.Normalization()\n",
    "normalizer_cricoid.adapt(np.array(train_ds_cricoid))\n",
    "\n",
    "cricoid_model = tf.keras.Sequential([\n",
    "    normalizer_cricoid,\n",
    "    layers.Dense(units=64, activation='relu'),\n",
    "    layers.Dense(units=1)\n",
    "])\n",
    "\n",
    "# cricoid_model.summary()\n",
    "\n",
    "cricoid_model.compile(\n",
    "    optimizer=tf.optimizers.Adam(learning_rate=0.1),\n",
    "    loss='mse',\n",
    "    metrics=[tf.keras.metrics.RootMeanSquaredError(),\n",
    "            tf.keras.metrics.MeanAbsoluteError()])\n",
    "\n",
    "checkpoint_filepath = '/tmp/checkpoint'\n",
    "model_checkpoint_callback = tf.keras.callbacks.ModelCheckpoint(\n",
    "    filepath=checkpoint_filepath,\n",
    "    save_weights_only=True,\n",
    "    monitor='val_accuracy',\n",
    "    mode='max',\n",
    "    save_best_only=True)\n",
    "\n",
    "\n",
    "history = cricoid_model.fit(x=train_ds_cricoid, y=train_target_cricoid,\n",
    "                            validation_data=(test_ds_cricoid, test_target_cricoid),\n",
    "                            epochs=300)"
   ]
  },
  {
   "cell_type": "code",
   "execution_count": null,
   "metadata": {
    "pycharm": {
     "name": "#%%\n"
    }
   },
   "outputs": [],
   "source": [
    "print('Cricoid MAE_val: {}'.format(min(history.history['val_mean_absolute_error'])))\n",
    "print('Cricoid RMSE_val: {}'.format(min(history.history['val_root_mean_squared_error'])))\n",
    "\n",
    "plot_loss(history, 'Cricoid')\n",
    "plt.show()\n",
    "plot_rmse(history, 'Cricoid')"
   ]
  }
 ],
 "metadata": {
  "colab": {
   "collapsed_sections": [],
   "name": "regression.ipynb",
   "toc_visible": true
  },
  "kernelspec": {
   "display_name": "Python 3",
   "language": "python",
   "name": "python3"
  },
  "language_info": {
   "codemirror_mode": {
    "name": "ipython",
    "version": 3
   },
   "file_extension": ".py",
   "mimetype": "text/x-python",
   "name": "python",
   "nbconvert_exporter": "python",
   "pygments_lexer": "ipython3",
   "version": "3.6.9"
  }
 },
 "nbformat": 4,
 "nbformat_minor": 1
}