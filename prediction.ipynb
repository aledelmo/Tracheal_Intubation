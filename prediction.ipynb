{
 "cells": [
  {
   "cell_type": "code",
   "execution_count": null,
   "metadata": {
    "pycharm": {
     "name": "#%%\n"
    }
   },
   "outputs": [],
   "source": [
    "%load_ext autoreload\n",
    "%autoreload 2\n",
    "\n",
    "import numpy as np\n",
    "\n",
    "import pandas as pd\n",
    "pd.set_option(\"display.max_rows\", 120)\n",
    "pd.set_option(\"display.max_columns\", 120)\n",
    "\n",
    "import seaborn as sns\n",
    "sns.set_context('notebook')\n",
    "sns.set(style=\"whitegrid\", font_scale=1.5)\n",
    "sns.despine()\n",
    "\n",
    "import matplotlib.pyplot as plt\n",
    "%matplotlib inline\n",
    "%config InlineBackend.figure_format = 'retina'\n",
    "plt.rcParams['figure.figsize'] = [20, 10]\n",
    "\n",
    "from sklearn.linear_model import ElasticNetCV, TheilSenRegressor, RANSACRegressor\n",
    "from sklearn.model_selection import GridSearchCV\n",
    "from sklearn.ensemble import RandomForestRegressor\n",
    "from sklearn.preprocessing import PolynomialFeatures\n",
    "from sklearn.pipeline import make_pipeline\n",
    "from sklearn.metrics import mean_absolute_error, max_error\n",
    "\n",
    "import xgboost as xgb\n",
    "\n",
    "import tensorflow as tf\n",
    "tf.keras.backend.clear_session()\n",
    "\n",
    "import tensorflowjs as tfjs\n",
    "\n",
    "import onnxruntime as rt\n",
    "from onnxconverter_common.data_types import FloatTensorType\n",
    "from onnxmltools.convert import convert_sklearn, convert_keras"
   ]
  },
  {
   "cell_type": "code",
   "execution_count": null,
   "metadata": {
    "pycharm": {
     "name": "#%%\n"
    }
   },
   "outputs": [],
   "source": [
    "dataset = pd.read_csv('measurements.csv', sep=';', decimal=',')\n",
    "dataset = dataset.dropna()\n",
    "dataset.drop(dataset.columns[[0, 1, 2]], axis = 1, inplace = True) \n",
    "\n",
    "max_tube_diameter = np.min(dataset[['AP cricoïde', 'AP fin de trachée', 'T fin de trachée']], axis=1)\n",
    "dataset= dataset.iloc[:, :3]\n",
    "dataset.drop(dataset.columns[[1]], axis = 1, inplace = True) \n",
    "\n",
    "dataset['max_tube_diameter'] = max_tube_diameter\n",
    "\n",
    "cuffless_OD = np.array([2.9, 3.6, 4.2, 4.9, 5.5, 6.2, 6.8, 7.5, 8.2, 8.8, 9.6])\n",
    "cuffed_OD = np.array([4.2, 5.5, 6.8, 7.5, 8.2, 8.8, 9.6, 10.2, 10.9, 11.5, 12.1, 12.8, 13.5])"
   ]
  },
  {
   "cell_type": "code",
   "execution_count": null,
   "metadata": {
    "pycharm": {
     "name": "#%%\n"
    }
   },
   "outputs": [],
   "source": [
    "train_dataset = dataset.sample(frac=0.8, random_state=42)\n",
    "test_dataset = dataset.drop(train_dataset.index)\n",
    "train_dataset.describe().transpose()"
   ]
  },
  {
   "cell_type": "code",
   "execution_count": null,
   "metadata": {
    "pycharm": {
     "name": "#%%\n"
    }
   },
   "outputs": [],
   "source": [
    "train_features = train_dataset.copy()\n",
    "train_target = train_features.pop('max_tube_diameter')\n",
    "\n",
    "test_features = test_dataset.copy()\n",
    "test_target = test_features.pop('max_tube_diameter')\n",
    "\n",
    "train_features.head()"
   ]
  },
  {
   "cell_type": "code",
   "execution_count": null,
   "metadata": {
    "pycharm": {
     "name": "#%%\n"
    }
   },
   "outputs": [],
   "source": [
    "od = np.array([cuffless_OD[np.abs(cuffless_OD - mtd).argmin()] for mtd in test_dataset['max_tube_diameter']])\n",
    "test_dataset['OD cuffless ref'] = cuffless_OD[np.maximum([j if i>0 else j-1 \n",
    "                                for i, j in zip(np.sign(test_dataset['max_tube_diameter'] - od),\n",
    "                                                [np.where(cuffless_OD == c)[0].item() for c in od])], 0)]\n",
    "\n",
    "\n",
    "od = np.array([cuffed_OD[np.abs(cuffed_OD - mtd).argmin()] for mtd in test_dataset['max_tube_diameter']])\n",
    "test_dataset['OD cuffed ref'] = cuffed_OD[np.maximum([j if i>0 else j-1 \n",
    "                                for i, j in zip(np.sign(test_dataset['max_tube_diameter'] - od),\n",
    "                                                [np.where(cuffed_OD == c)[0].item() for c in od])], 0)]"
   ]
  },
  {
   "cell_type": "markdown",
   "metadata": {
    "pycharm": {
     "name": "#%% md\n"
    }
   },
   "source": [
    "# Linear Regression"
   ]
  },
  {
   "cell_type": "code",
   "execution_count": null,
   "metadata": {
    "pycharm": {
     "name": "#%%\n"
    }
   },
   "outputs": [],
   "source": [
    "reg=  TheilSenRegressor(random_state=42)\n",
    "reg = make_pipeline(PolynomialFeatures(2), reg)\n",
    "reg.fit(train_features, train_target)"
   ]
  },
  {
   "cell_type": "code",
   "execution_count": null,
   "metadata": {
    "pycharm": {
     "name": "#%%\n"
    }
   },
   "outputs": [],
   "source": [
    "test_dataset['max_tube_diameter LR'] = reg.predict(test_features)\n",
    "\n",
    "od = np.array([cuffless_OD[np.abs(cuffless_OD - mtd).argmin()] for mtd in test_dataset['max_tube_diameter LR']])\n",
    "test_dataset['OD cuffless LR'] = cuffless_OD[np.maximum([j if i>0 else j-1 \n",
    "                                for i, j in zip(np.sign(test_dataset['max_tube_diameter LR'] - od),\n",
    "                                                [np.where(cuffless_OD == c)[0].item() for c in od])], 0)]\n",
    "\n",
    "\n",
    "od = np.array([cuffed_OD[np.abs(cuffed_OD - mtd).argmin()] for mtd in test_dataset['max_tube_diameter LR']])\n",
    "test_dataset['OD cuffed LR'] = cuffed_OD[np.maximum([j if i>0 else j-1 \n",
    "                                for i, j in zip(np.sign(test_dataset['max_tube_diameter LR'] - od),\n",
    "                                                [np.where(cuffed_OD == c)[0].item() for c in od])], 0)]"
   ]
  },
  {
   "cell_type": "markdown",
   "metadata": {
    "pycharm": {
     "name": "#%% md\n"
    }
   },
   "source": [
    "# Random Forest"
   ]
  },
  {
   "cell_type": "code",
   "execution_count": null,
   "metadata": {
    "pycharm": {
     "name": "#%%\n"
    },
    "scrolled": true
   },
   "outputs": [],
   "source": [
    "forest = RandomForestRegressor(random_state=42)\n",
    "\n",
    "hyper_parameters = dict(n_estimators = [100, 300, 500, 800, 1200],\n",
    "                        max_depth = [5, 8, 15, 25, 30, 50, 100, 150],\n",
    "                        min_samples_split = [2, 5, 10, 15, 30, 50, 100],\n",
    "                        min_samples_leaf = [1, 2, 5, 10, 15])\n",
    "\n",
    "grid_search = GridSearchCV(forest, hyper_parameters, cv = 2, verbose = 1, n_jobs = 20)\n",
    "\n",
    "best_rf = grid_search.fit(train_features, train_target)\n",
    "\n",
    "print(grid_search.best_estimator_)"
   ]
  },
  {
   "cell_type": "code",
   "execution_count": null,
   "metadata": {
    "pycharm": {
     "name": "#%%\n"
    }
   },
   "outputs": [],
   "source": [
    "test_dataset['max_tube_diameter RF'] = best_rf.predict(test_features)\n",
    "\n",
    "od = np.array([cuffless_OD[np.abs(cuffless_OD - mtd).argmin()] for mtd in test_dataset['max_tube_diameter RF']])\n",
    "test_dataset['OD cuffless RF'] = cuffless_OD[np.maximum([j if i>0 else j-1 \n",
    "                                for i, j in zip(np.sign(test_dataset['max_tube_diameter RF'] - od),\n",
    "                                                [np.where(cuffless_OD == c)[0].item() for c in od])], 0)]\n",
    "\n",
    "\n",
    "od = np.array([cuffed_OD[np.abs(cuffed_OD - mtd).argmin()] for mtd in test_dataset['max_tube_diameter RF']])\n",
    "test_dataset['OD cuffed RF'] = cuffed_OD[np.maximum([j if i>0 else j-1 \n",
    "                                for i, j in zip(np.sign(test_dataset['max_tube_diameter RF'] - od),\n",
    "                                                [np.where(cuffed_OD == c)[0].item() for c in od])], 0)]"
   ]
  },
  {
   "cell_type": "markdown",
   "metadata": {},
   "source": [
    "## Gradient Boosting"
   ]
  },
  {
   "cell_type": "code",
   "execution_count": null,
   "metadata": {},
   "outputs": [],
   "source": [
    "boosting = xgb.XGBRegressor(verbosity=2, nthread=20,\n",
    "                            eta=0.2, gamma=0, max_depth=50, reg_lambda=1, reg_alpha=1, tree_method='exact',\n",
    "                            objective='reg:squarederror', eval_metric='mae')\n",
    "\n",
    "boosting.fit(train_features, train_target)"
   ]
  },
  {
   "cell_type": "code",
   "execution_count": null,
   "metadata": {},
   "outputs": [],
   "source": [
    "test_dataset['max_tube_diameter GB'] = boosting.predict(test_features)\n",
    "\n",
    "od = np.array([cuffless_OD[np.abs(cuffless_OD - mtd).argmin()] for mtd in test_dataset['max_tube_diameter GB']])\n",
    "test_dataset['OD cuffless GB'] = cuffless_OD[np.maximum([j if i>0 else j-1 \n",
    "                                for i, j in zip(np.sign(test_dataset['max_tube_diameter GB'] - od),\n",
    "                                                [np.where(cuffless_OD == c)[0].item() for c in od])], 0)]\n",
    "\n",
    "\n",
    "od = np.array([cuffed_OD[np.abs(cuffed_OD - mtd).argmin()] for mtd in test_dataset['max_tube_diameter GB']])\n",
    "test_dataset['OD cuffed GB'] = cuffed_OD[np.maximum([j if i>0 else j-1 \n",
    "                                for i, j in zip(np.sign(test_dataset['max_tube_diameter GB'] - od),\n",
    "                                                [np.where(cuffed_OD == c)[0].item() for c in od])], 0)]"
   ]
  },
  {
   "cell_type": "markdown",
   "metadata": {
    "pycharm": {
     "name": "#%% md\n"
    }
   },
   "source": [
    "# Neural Network"
   ]
  },
  {
   "cell_type": "code",
   "execution_count": null,
   "metadata": {
    "pycharm": {
     "name": "#%%\n"
    },
    "scrolled": true
   },
   "outputs": [],
   "source": [
    "normalizer = tf.keras.layers.experimental.preprocessing.Normalization()\n",
    "normalizer.adapt(np.array(train_features))\n",
    "\n",
    "model = tf.keras.Sequential([\n",
    "    tf.keras.layers.InputLayer(input_shape=(2,), dtype=tf.float64),\n",
    "    normalizer,\n",
    "    tf.keras.layers.Dense(units=64, activation='relu'),\n",
    "    tf.keras.layers.Dense(units=1)\n",
    "])\n",
    "\n",
    "\n",
    "model.compile(\n",
    "    optimizer=tf.optimizers.Adam(learning_rate=0.001),\n",
    "    loss='mse',\n",
    "    metrics=[tf.keras.metrics.RootMeanSquaredError(),\n",
    "            tf.keras.metrics.MeanAbsoluteError()])\n",
    "\n",
    "history = model.fit(x=train_features, y=train_target,\n",
    "                    validation_data=(test_features, test_target),\n",
    "                    epochs=300)"
   ]
  },
  {
   "cell_type": "code",
   "execution_count": null,
   "metadata": {
    "pycharm": {
     "name": "#%%\n"
    }
   },
   "outputs": [],
   "source": [
    "test_dataset['max_tube_diameter NN'] = [model(np.array([row[1][:2]])).numpy().item() for row in test_dataset.iterrows()]\n",
    "\n",
    "od = np.array([cuffless_OD[np.abs(cuffless_OD - mtd).argmin()] for mtd in test_dataset['max_tube_diameter NN']])\n",
    "test_dataset['OD cuffless NN'] = cuffless_OD[np.maximum([j if i>0 else j-1 \n",
    "                                for i, j in zip(np.sign(test_dataset['max_tube_diameter NN'] - od),\n",
    "                                                [np.where(cuffless_OD == c)[0].item() for c in od])], 0)]\n",
    "\n",
    "\n",
    "od = np.array([cuffed_OD[np.abs(cuffed_OD - mtd).argmin()] for mtd in test_dataset['max_tube_diameter NN']])\n",
    "test_dataset['OD cuffed NN'] = cuffed_OD[np.maximum([j if i>0 else j-1 \n",
    "                                for i, j in zip(np.sign(test_dataset['max_tube_diameter NN'] - od),\n",
    "                                                [np.where(cuffed_OD == c)[0].item() for c in od])], 0)]"
   ]
  },
  {
   "cell_type": "markdown",
   "metadata": {
    "pycharm": {
     "name": "#%% md\n"
    }
   },
   "source": [
    "# Results"
   ]
  },
  {
   "cell_type": "code",
   "execution_count": null,
   "metadata": {
    "pycharm": {
     "name": "#%%\n"
    }
   },
   "outputs": [],
   "source": [
    "pred = test_dataset[['age en mois', 'max_tube_diameter LR', \"max_tube_diameter RF\",\n",
    "                     \"max_tube_diameter GB\", \"max_tube_diameter NN\"]]\n",
    "pred = pred.set_index('age en mois', drop=True)\n",
    "sns.lineplot(data=pred,  palette = \"Dark2\", linewidth=3);\n",
    "sns.scatterplot(data=test_dataset, x='age en mois', y='max_tube_diameter');\n",
    "sns.scatterplot(data=train_dataset, x='age en mois', y='max_tube_diameter', alpha=0.4);"
   ]
  },
  {
   "cell_type": "code",
   "execution_count": null,
   "metadata": {
    "pycharm": {
     "name": "#%%\n"
    },
    "scrolled": false
   },
   "outputs": [],
   "source": [
    "print('--- Cuffless predictions ---')\n",
    "print()\n",
    "print('LR Adapted diameter: {:.2%}'.format(sum(test_dataset['OD cuffless LR'] <= test_dataset['OD cuffless ref']) / len(test_dataset)))\n",
    "print('RF Adapted diameter: {:.2%}'.format(sum(test_dataset['OD cuffless RF'] <= test_dataset['OD cuffless ref']) / len(test_dataset)))\n",
    "print('GB Adapted diameter: {:.2%}'.format(sum(test_dataset['OD cuffless GB'] <= test_dataset['OD cuffless ref']) / len(test_dataset)))\n",
    "print('NN Adapted diameter: {:.2%}'.format(sum(test_dataset['OD cuffless NN'] <= test_dataset['OD cuffless ref']) / len(test_dataset)))\n",
    "print()\n",
    "print('LR Exact diameter: {:.2%}'.format(sum(test_dataset['OD cuffless LR'] == test_dataset['OD cuffless ref']) / len(test_dataset)))\n",
    "print('RF Exact diameter: {:.2%}'.format(sum(test_dataset['OD cuffless RF'] == test_dataset['OD cuffless ref']) / len(test_dataset)))\n",
    "print('GB Exact diameter: {:.2%}'.format(sum(test_dataset['OD cuffless GB'] == test_dataset['OD cuffless ref']) / len(test_dataset)))\n",
    "print('NN Exact diameter: {:.2%}'.format(sum(test_dataset['OD cuffless NN'] == test_dataset['OD cuffless ref']) / len(test_dataset)))\n",
    "print()\n",
    "print('--- Cuffed prediction ---')\n",
    "print()\n",
    "print('LR Adapted diameter: {:.2%}'.format(sum(test_dataset['OD cuffed LR'] <= test_dataset['OD cuffed ref']) / len(test_dataset)))\n",
    "print('RF Adapted diameter: {:.2%}'.format(sum(test_dataset['OD cuffed RF'] <= test_dataset['OD cuffed ref']) / len(test_dataset)))\n",
    "print('GB Adapted diameter: {:.2%}'.format(sum(test_dataset['OD cuffed GB'] <= test_dataset['OD cuffed ref']) / len(test_dataset)))\n",
    "print('NN Adapted diameter: {:.2%}'.format(sum(test_dataset['OD cuffed NN'] <= test_dataset['OD cuffed ref']) / len(test_dataset)))\n",
    "print()\n",
    "print('LR Exact diameter: {:.2%}'.format(sum(test_dataset['OD cuffed LR'] == test_dataset['OD cuffed ref']) / len(test_dataset)))\n",
    "print('RF Exact diameter: {:.2%}'.format(sum(test_dataset['OD cuffed RF'] == test_dataset['OD cuffed ref']) / len(test_dataset)))\n",
    "print('GB Exact diameter: {:.2%}'.format(sum(test_dataset['OD cuffed GB'] == test_dataset['OD cuffed ref']) / len(test_dataset)))\n",
    "print('NN Exact diameter: {:.2%}'.format(sum(test_dataset['OD cuffed NN'] == test_dataset['OD cuffed ref']) / len(test_dataset)))\n",
    "print()\n",
    "print('--- Prediction errors ---')\n",
    "print('Mean Absolute Error')\n",
    "print('LR: {}'.format(mean_absolute_error(test_dataset['max_tube_diameter'], test_dataset['max_tube_diameter LR'])))\n",
    "print('RF: {}'.format(mean_absolute_error(test_dataset['max_tube_diameter'], test_dataset['max_tube_diameter RF'])))\n",
    "print('GB: {}'.format(mean_absolute_error(test_dataset['max_tube_diameter'], test_dataset['max_tube_diameter GB'])))\n",
    "print('NN: {}'.format(mean_absolute_error(test_dataset['max_tube_diameter'], test_dataset['max_tube_diameter NN'])))\n",
    "print('Maximum Residual Error')\n",
    "print('LR: {}'.format(max_error(test_dataset['max_tube_diameter'], test_dataset['max_tube_diameter LR'])))\n",
    "print('RF: {}'.format(max_error(test_dataset['max_tube_diameter'], test_dataset['max_tube_diameter RF'])))\n",
    "print('GB: {}'.format(max_error(test_dataset['max_tube_diameter'], test_dataset['max_tube_diameter GB'])))\n",
    "print('NN: {}'.format(max_error(test_dataset['max_tube_diameter'], test_dataset['max_tube_diameter NN'])))"
   ]
  },
  {
   "cell_type": "code",
   "execution_count": null,
   "metadata": {
    "pycharm": {
     "name": "#%%\n"
    }
   },
   "outputs": [],
   "source": [
    "def plot_loss(history, name):\n",
    "    plt.plot(history.history['loss'], label='loss')\n",
    "    plt.plot(history.history['val_loss'], label='val_loss')\n",
    "    plt.xlabel('Epoch')\n",
    "    plt.ylabel('Loss (' + name + ')')\n",
    "    plt.legend()\n",
    "    plt.grid(True)\n",
    "    \n",
    "def plot_rmse(history, name):\n",
    "    plt.plot(history.history['root_mean_squared_error'], label='rmse')\n",
    "    plt.plot(history.history['val_root_mean_squared_error'], label='val_rmse')\n",
    "    plt.xlabel('Epoch')\n",
    "    plt.ylabel('Metric (' + name + ')')\n",
    "    plt.legend()\n",
    "    plt.grid(True)\n",
    "    \n",
    "print('MAE_val: {}'.format(min(history.history['val_mean_absolute_error'])))\n",
    "print('RMSE_val: {}'.format(min(history.history['val_root_mean_squared_error'])))\n",
    "\n",
    "plot_loss(history, 'MAE');\n",
    "plt.show();\n",
    "plot_rmse(history, 'RMSE');"
   ]
  },
  {
   "cell_type": "code",
   "execution_count": null,
   "metadata": {
    "pycharm": {
     "name": "#%%\n"
    }
   },
   "outputs": [],
   "source": [
    "test_dataset.head()"
   ]
  },
  {
   "cell_type": "code",
   "execution_count": null,
   "metadata": {
    "pycharm": {
     "name": "#%%\n"
    },
    "scrolled": false
   },
   "outputs": [],
   "source": [
    "initial_type = [('float_input', FloatTensorType([None, train_features.shape[1]]))]\n",
    "\n",
    "onx = convert_sklearn(reg, initial_types=initial_type)\n",
    "with open(\"onnx/theil_sen.onnx\", \"wb\") as f:\n",
    "    f.write(onx.SerializeToString())\n",
    "\n",
    "    \n",
    "onx = convert_sklearn(best_rf, initial_types=initial_type)\n",
    "with open(\"onnx/random_forest.onnx\", \"wb\") as f:\n",
    "    f.write(onx.SerializeToString())\n",
    "\n",
    "# sess = rt.InferenceSession(\"onnx/random_forest.onnx\")\n",
    "# input_name = sess.get_inputs()[0].name\n",
    "# label_name = sess.get_outputs()[0].name\n",
    "# pred_onx = sess.run([label_name], {input_name: np.array(test_features).astype(np.float32)})[0]\n",
    "# print(pred_onx)\n",
    "\n",
    "tfjs.converters.save_keras_model(model, 'onnx/neural_network')"
   ]
  }
 ],
 "metadata": {
  "colab": {
   "collapsed_sections": [],
   "name": "regression.ipynb",
   "toc_visible": true
  },
  "kernelspec": {
   "display_name": "Python (Upper_Airways_Dimensions_DL)",
   "language": "python",
   "name": "upper_airways_dimensions_dl"
  },
  "language_info": {
   "codemirror_mode": {
    "name": "ipython",
    "version": 3
   },
   "file_extension": ".py",
   "mimetype": "text/x-python",
   "name": "python",
   "nbconvert_exporter": "python",
   "pygments_lexer": "ipython3",
   "version": "3.9.5"
  },
  "toc-autonumbering": false
 },
 "nbformat": 4,
 "nbformat_minor": 4
}