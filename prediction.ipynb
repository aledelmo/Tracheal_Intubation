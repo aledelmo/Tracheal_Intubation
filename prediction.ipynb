{
 "cells": [
  {
   "cell_type": "code",
   "execution_count": 1,
   "metadata": {
    "pycharm": {
     "name": "#%%\n"
    }
   },
   "outputs": [],
   "source": [
    "%load_ext autoreload\n",
    "%autoreload 2\n",
    "\n",
    "import numpy as np\n",
    "\n",
    "import pandas as pd\n",
    "pd.set_option(\"display.max_rows\", 120)\n",
    "pd.set_option(\"display.max_columns\", 120)\n",
    "\n",
    "import matplotlib.pyplot as plt\n",
    "%matplotlib inline\n",
    "%config InlineBackend.figure_format = 'retina'\n",
    "plt.rcParams['figure.figsize'] = [20, 5]\n",
    "\n",
    "from sklearn.linear_model import ElasticNetCV\n",
    "from sklearn.model_selection import GridSearchCV\n",
    "from sklearn.ensemble import RandomForestRegressor\n",
    "\n",
    "import tensorflow as tf\n",
    "tf.keras.backend.clear_session()"
   ]
  },
  {
   "cell_type": "code",
   "execution_count": 2,
   "metadata": {
    "pycharm": {
     "name": "#%%\n"
    }
   },
   "outputs": [],
   "source": [
    "dataset = pd.read_csv('measurements.csv', sep=';', decimal=',')\n",
    "dataset = dataset.dropna()\n",
    "dataset.drop(dataset.columns[[0, 1, 2]], axis = 1, inplace = True) \n",
    "\n",
    "max_tube_diameter = np.min(dataset[['AP cricoïde', 'AP fin de trachée', 'T fin de trachée']], axis=1)\n",
    "dataset= dataset.iloc[:, :3]\n",
    "dataset['max_tube_diameter'] = max_tube_diameter\n",
    "\n",
    "cuffless_OD = np.array([2.9, 3.6, 4.2, 4.9, 5.5, 6.2, 6.8, 7.5, 8.2, 8.8, 9.6])\n",
    "cuffed_OD = np.array([4.2, 5.5, 6.8, 7.5, 8.2, 8.8, 9.6, 10.2, 10.9, 11.5, 12.1, 12.8, 13.5])"
   ]
  },
  {
   "cell_type": "code",
   "execution_count": 3,
   "metadata": {
    "pycharm": {
     "name": "#%%\n"
    }
   },
   "outputs": [
    {
     "data": {
      "text/html": [
       "<div>\n",
       "<style scoped>\n",
       "    .dataframe tbody tr th:only-of-type {\n",
       "        vertical-align: middle;\n",
       "    }\n",
       "\n",
       "    .dataframe tbody tr th {\n",
       "        vertical-align: top;\n",
       "    }\n",
       "\n",
       "    .dataframe thead th {\n",
       "        text-align: right;\n",
       "    }\n",
       "</style>\n",
       "<table border=\"1\" class=\"dataframe\">\n",
       "  <thead>\n",
       "    <tr style=\"text-align: right;\">\n",
       "      <th></th>\n",
       "      <th>count</th>\n",
       "      <th>mean</th>\n",
       "      <th>std</th>\n",
       "      <th>min</th>\n",
       "      <th>25%</th>\n",
       "      <th>50%</th>\n",
       "      <th>75%</th>\n",
       "      <th>max</th>\n",
       "    </tr>\n",
       "  </thead>\n",
       "  <tbody>\n",
       "    <tr>\n",
       "      <th>age en mois</th>\n",
       "      <td>154.0</td>\n",
       "      <td>85.993506</td>\n",
       "      <td>51.391169</td>\n",
       "      <td>1.00</td>\n",
       "      <td>36.0000</td>\n",
       "      <td>85.500</td>\n",
       "      <td>131.7500</td>\n",
       "      <td>176.0</td>\n",
       "    </tr>\n",
       "    <tr>\n",
       "      <th>sexe (0=M/1=F)</th>\n",
       "      <td>154.0</td>\n",
       "      <td>0.350649</td>\n",
       "      <td>0.478730</td>\n",
       "      <td>0.00</td>\n",
       "      <td>0.0000</td>\n",
       "      <td>0.000</td>\n",
       "      <td>1.0000</td>\n",
       "      <td>1.0</td>\n",
       "    </tr>\n",
       "    <tr>\n",
       "      <th>poids</th>\n",
       "      <td>154.0</td>\n",
       "      <td>27.760390</td>\n",
       "      <td>15.704075</td>\n",
       "      <td>4.00</td>\n",
       "      <td>15.0000</td>\n",
       "      <td>25.000</td>\n",
       "      <td>36.5500</td>\n",
       "      <td>90.0</td>\n",
       "    </tr>\n",
       "    <tr>\n",
       "      <th>max_tube_diameter</th>\n",
       "      <td>154.0</td>\n",
       "      <td>7.432532</td>\n",
       "      <td>1.997008</td>\n",
       "      <td>2.81</td>\n",
       "      <td>6.1925</td>\n",
       "      <td>7.295</td>\n",
       "      <td>8.7675</td>\n",
       "      <td>12.6</td>\n",
       "    </tr>\n",
       "  </tbody>\n",
       "</table>\n",
       "</div>"
      ],
      "text/plain": [
       "                   count       mean        std   min      25%     50%  \\\n",
       "age en mois        154.0  85.993506  51.391169  1.00  36.0000  85.500   \n",
       "sexe (0=M/1=F)     154.0   0.350649   0.478730  0.00   0.0000   0.000   \n",
       "poids              154.0  27.760390  15.704075  4.00  15.0000  25.000   \n",
       "max_tube_diameter  154.0   7.432532   1.997008  2.81   6.1925   7.295   \n",
       "\n",
       "                        75%    max  \n",
       "age en mois        131.7500  176.0  \n",
       "sexe (0=M/1=F)       1.0000    1.0  \n",
       "poids               36.5500   90.0  \n",
       "max_tube_diameter    8.7675   12.6  "
      ]
     },
     "execution_count": 3,
     "metadata": {},
     "output_type": "execute_result"
    }
   ],
   "source": [
    "train_dataset = dataset.sample(frac=0.8, random_state=42)\n",
    "test_dataset = dataset.drop(train_dataset.index)\n",
    "train_dataset.describe().transpose()"
   ]
  },
  {
   "cell_type": "code",
   "execution_count": 4,
   "metadata": {
    "pycharm": {
     "name": "#%%\n"
    }
   },
   "outputs": [],
   "source": [
    "train_features = train_dataset.copy()\n",
    "train_target = train_features.pop('max_tube_diameter')\n",
    "\n",
    "test_features = test_dataset.copy()\n",
    "test_target = test_features.pop('max_tube_diameter')"
   ]
  },
  {
   "cell_type": "code",
   "execution_count": 5,
   "metadata": {
    "scrolled": false
   },
   "outputs": [],
   "source": [
    "od = np.array([cuffless_OD[np.abs(cuffless_OD - mtd).argmin()] for mtd in test_dataset['max_tube_diameter']])\n",
    "test_dataset['OD cuffless ref'] = cuffless_OD[np.maximum([j if i>0 else j-1 \n",
    "                                for i, j in zip(np.sign(test_dataset['max_tube_diameter'] - od),\n",
    "                                                [np.where(cuffless_OD == c)[0].item() for c in od])], 0)]\n",
    "\n",
    "\n",
    "od = np.array([cuffed_OD[np.abs(cuffed_OD - mtd).argmin()] for mtd in test_dataset['max_tube_diameter']])\n",
    "test_dataset['OD cuffed ref'] = cuffed_OD[np.maximum([j if i>0 else j-1 \n",
    "                                for i, j in zip(np.sign(test_dataset['max_tube_diameter'] - od),\n",
    "                                                [np.where(cuffed_OD == c)[0].item() for c in od])], 0)]"
   ]
  },
  {
   "cell_type": "markdown",
   "metadata": {},
   "source": [
    "# Linear Regression"
   ]
  },
  {
   "cell_type": "code",
   "execution_count": 6,
   "metadata": {},
   "outputs": [
    {
     "data": {
      "text/plain": [
       "ElasticNetCV(cv=5, l1_ratio=[0.1, 0.5, 0.7, 0.9, 0.95, 0.99, 1],\n",
       "             random_state=42)"
      ]
     },
     "execution_count": 6,
     "metadata": {},
     "output_type": "execute_result"
    }
   ],
   "source": [
    "reg = ElasticNetCV(l1_ratio=[.1, .5, .7, .9, .95, .99, 1], cv=5, random_state=42)\n",
    "reg.fit(np.array(train_features['age en mois']).reshape(-1, 1), train_target)"
   ]
  },
  {
   "cell_type": "code",
   "execution_count": 7,
   "metadata": {},
   "outputs": [],
   "source": [
    "test_dataset['max_tube_diameter LR'] = reg.predict(np.array(test_features['age en mois']).reshape(-1, 1))\n",
    "\n",
    "od = np.array([cuffless_OD[np.abs(cuffless_OD - mtd).argmin()] for mtd in test_dataset['max_tube_diameter LR']])\n",
    "test_dataset['OD cuffless LR'] = cuffless_OD[np.maximum([j if i>0 else j-1 \n",
    "                                for i, j in zip(np.sign(test_dataset['max_tube_diameter LR'] - od),\n",
    "                                                [np.where(cuffless_OD == c)[0].item() for c in od])], 0)]\n",
    "\n",
    "\n",
    "od = np.array([cuffed_OD[np.abs(cuffed_OD - mtd).argmin()] for mtd in test_dataset['max_tube_diameter LR']])\n",
    "test_dataset['OD cuffed LR'] = cuffed_OD[np.maximum([j if i>0 else j-1 \n",
    "                                for i, j in zip(np.sign(test_dataset['max_tube_diameter LR'] - od),\n",
    "                                                [np.where(cuffed_OD == c)[0].item() for c in od])], 0)]"
   ]
  },
  {
   "cell_type": "markdown",
   "metadata": {},
   "source": [
    "# Random Forest"
   ]
  },
  {
   "cell_type": "code",
   "execution_count": null,
   "metadata": {},
   "outputs": [
    {
     "name": "stdout",
     "output_type": "stream",
     "text": [
      "Fitting 5 folds for each of 1400 candidates, totalling 7000 fits\n"
     ]
    },
    {
     "name": "stderr",
     "output_type": "stream",
     "text": [
      "[Parallel(n_jobs=20)]: Using backend LokyBackend with 20 concurrent workers.\n",
      "[Parallel(n_jobs=20)]: Done  10 tasks      | elapsed:    1.4s\n",
      "[Parallel(n_jobs=20)]: Done 160 tasks      | elapsed:    7.3s\n",
      "[Parallel(n_jobs=20)]: Done 410 tasks      | elapsed:   17.4s\n",
      "[Parallel(n_jobs=20)]: Done 760 tasks      | elapsed:   31.1s\n",
      "[Parallel(n_jobs=20)]: Done 1210 tasks      | elapsed:   48.9s\n",
      "[Parallel(n_jobs=20)]: Done 1760 tasks      | elapsed:  1.2min\n",
      "[Parallel(n_jobs=20)]: Done 2410 tasks      | elapsed:  1.6min\n"
     ]
    }
   ],
   "source": [
    "forest = RandomForestRegressor(random_state=42)\n",
    "\n",
    "hyper_parameters = dict(n_estimators = [100, 300, 500, 800, 1200],\n",
    "                        max_depth = [5, 8, 15, 25, 30, 50, 100, 150],\n",
    "                        min_samples_split = [2, 5, 10, 15, 30, 50, 100],\n",
    "                        min_samples_leaf = [1, 2, 5, 10, 15])\n",
    "\n",
    "grid_search = GridSearchCV(forest, hyper_parameters, cv = 5, verbose = 1, n_jobs = 20)\n",
    "\n",
    "best_rf = grid_search.fit(train_features, train_target)"
   ]
  },
  {
   "cell_type": "code",
   "execution_count": null,
   "metadata": {},
   "outputs": [],
   "source": [
    "test_dataset['max_tube_diameter RF'] = best_rf.predict(test_features)\n",
    "\n",
    "od = np.array([cuffless_OD[np.abs(cuffless_OD - mtd).argmin()] for mtd in test_dataset['max_tube_diameter RF']])\n",
    "test_dataset['OD cuffless RF'] = cuffless_OD[np.maximum([j if i>0 else j-1 \n",
    "                                for i, j in zip(np.sign(test_dataset['max_tube_diameter RF'] - od),\n",
    "                                                [np.where(cuffless_OD == c)[0].item() for c in od])], 0)]\n",
    "\n",
    "\n",
    "od = np.array([cuffed_OD[np.abs(cuffed_OD - mtd).argmin()] for mtd in test_dataset['max_tube_diameter RF']])\n",
    "test_dataset['OD cuffed RF'] = cuffed_OD[np.maximum([j if i>0 else j-1 \n",
    "                                for i, j in zip(np.sign(test_dataset['max_tube_diameter RF'] - od),\n",
    "                                                [np.where(cuffed_OD == c)[0].item() for c in od])], 0)]"
   ]
  },
  {
   "cell_type": "markdown",
   "metadata": {},
   "source": [
    "# Neural Network"
   ]
  },
  {
   "cell_type": "code",
   "execution_count": null,
   "metadata": {},
   "outputs": [],
   "source": [
    "normalizer = tf.keras.layers.experimental.preprocessing.Normalization()\n",
    "normalizer.adapt(np.array(train_features))\n",
    "\n",
    "model = tf.keras.Sequential([\n",
    "    normalizer,\n",
    "    tf.keras.layers.Dense(units=64, activation='relu'),\n",
    "    tf.keras.layers.Dense(units=1)\n",
    "])\n",
    "\n",
    "\n",
    "model.compile(\n",
    "    optimizer=tf.optimizers.Adam(learning_rate=0.001),\n",
    "    loss='mse',\n",
    "    metrics=[tf.keras.metrics.RootMeanSquaredError(),\n",
    "            tf.keras.metrics.MeanAbsoluteError()])\n",
    "\n",
    "history = model.fit(x=train_features, y=train_target,\n",
    "                    validation_data=(test_features, test_target),\n",
    "                    epochs=300)"
   ]
  },
  {
   "cell_type": "code",
   "execution_count": null,
   "metadata": {},
   "outputs": [],
   "source": [
    "test_dataset['max_tube_diameter NN'] = [model(np.array([row[1][:3]])).numpy().item() for row in test_dataset.iterrows()]\n",
    "\n",
    "od = np.array([cuffless_OD[np.abs(cuffless_OD - mtd).argmin()] for mtd in test_dataset['max_tube_diameter NN']])\n",
    "test_dataset['OD cuffless NN'] = cuffless_OD[np.maximum([j if i>0 else j-1 \n",
    "                                for i, j in zip(np.sign(test_dataset['max_tube_diameter NN'] - od),\n",
    "                                                [np.where(cuffless_OD == c)[0].item() for c in od])], 0)]\n",
    "\n",
    "\n",
    "od = np.array([cuffed_OD[np.abs(cuffed_OD - mtd).argmin()] for mtd in test_dataset['max_tube_diameter NN']])\n",
    "test_dataset['OD cuffed NN'] = cuffed_OD[np.maximum([j if i>0 else j-1 \n",
    "                                for i, j in zip(np.sign(test_dataset['max_tube_diameter NN'] - od),\n",
    "                                                [np.where(cuffed_OD == c)[0].item() for c in od])], 0)]"
   ]
  },
  {
   "cell_type": "markdown",
   "metadata": {},
   "source": [
    "# Results"
   ]
  },
  {
   "cell_type": "code",
   "execution_count": null,
   "metadata": {},
   "outputs": [],
   "source": [
    "plt.plot(test_dataset['age en mois'], test_dataset['max_tube_diameter LR'], 'b');\n",
    "plt.plot(test_dataset['age en mois'], test_dataset['max_tube_diameter RF'], 'r');\n",
    "plt.plot(test_dataset['age en mois'], test_dataset['max_tube_diameter NN'], 'g');\n",
    "plt.plot(test_dataset['age en mois'], test_dataset['max_tube_diameter'], 'orange');\n",
    "plt.xlabel(\"Age (months)\");\n",
    "plt.ylabel(\"Max Tube Diameter LR\");"
   ]
  },
  {
   "cell_type": "code",
   "execution_count": null,
   "metadata": {},
   "outputs": [],
   "source": [
    "print('--- Cuffless predictions ---')\n",
    "print()\n",
    "print('LR Adapted diameter: {:.2%}'.format(sum(test_dataset['OD cuffless LR'] <= test_dataset['OD cuffless ref']) / len(test_dataset)))\n",
    "print('RF Adapted diameter: {:.2%}'.format(sum(test_dataset['OD cuffless RF'] <= test_dataset['OD cuffless ref']) / len(test_dataset)))\n",
    "print('NN Adapted diameter: {:.2%}'.format(sum(test_dataset['OD cuffless NN'] <= test_dataset['OD cuffless ref']) / len(test_dataset)))\n",
    "print()\n",
    "print('LR Exact diameter: {:.2%}'.format(sum(test_dataset['OD cuffless LR'] == test_dataset['OD cuffless ref']) / len(test_dataset)))\n",
    "print('RF Exact diameter: {:.2%}'.format(sum(test_dataset['OD cuffless RF'] == test_dataset['OD cuffless ref']) / len(test_dataset)))\n",
    "print('NN Exact diameter: {:.2%}'.format(sum(test_dataset['OD cuffless NN'] == test_dataset['OD cuffless ref']) / len(test_dataset)))\n",
    "print()\n",
    "print('--- Cuffed prediction ---')\n",
    "print()\n",
    "print('LR Adapted diameter: {:.2%}'.format(sum(test_dataset['OD cuffed LR'] <= test_dataset['OD cuffed ref']) / len(test_dataset)))\n",
    "print('RF Adapted diameter: {:.2%}'.format(sum(test_dataset['OD cuffed RF'] <= test_dataset['OD cuffed ref']) / len(test_dataset)))\n",
    "print('NN Adapted diameter: {:.2%}'.format(sum(test_dataset['OD cuffed NN'] <= test_dataset['OD cuffed ref']) / len(test_dataset)))\n",
    "print()\n",
    "print('LR Exact diameter: {:.2%}'.format(sum(test_dataset['OD cuffed LR'] == test_dataset['OD cuffed ref']) / len(test_dataset)))\n",
    "print('RF Exact diameter: {:.2%}'.format(sum(test_dataset['OD cuffed RF'] == test_dataset['OD cuffed ref']) / len(test_dataset)))\n",
    "print('NN Exact diameter: {:.2%}'.format(sum(test_dataset['OD cuffed NN'] == test_dataset['OD cuffed ref']) / len(test_dataset)))"
   ]
  },
  {
   "cell_type": "code",
   "execution_count": null,
   "metadata": {},
   "outputs": [],
   "source": [
    "def plot_loss(history, name):\n",
    "    plt.plot(history.history['loss'], label='loss')\n",
    "    plt.plot(history.history['val_loss'], label='val_loss')\n",
    "    plt.xlabel('Epoch')\n",
    "    plt.ylabel('Loss (' + name + ')')\n",
    "    plt.legend()\n",
    "    plt.grid(True)\n",
    "    \n",
    "def plot_rmse(history, name):\n",
    "    plt.plot(history.history['root_mean_squared_error'], label='rmse')\n",
    "    plt.plot(history.history['val_root_mean_squared_error'], label='val_rmse')\n",
    "    plt.xlabel('Epoch')\n",
    "    plt.ylabel('Metric (' + name + ')')\n",
    "    plt.legend()\n",
    "    plt.grid(True)\n",
    "    \n",
    "print('MAE_val: {}'.format(min(history.history['val_mean_absolute_error'])))\n",
    "print('RMSE_val: {}'.format(min(history.history['val_root_mean_squared_error'])))\n",
    "\n",
    "plot_loss(history, 'MAE');\n",
    "plt.show();\n",
    "plot_rmse(history, 'RMSE');"
   ]
  },
  {
   "cell_type": "code",
   "execution_count": null,
   "metadata": {
    "scrolled": true
   },
   "outputs": [],
   "source": [
    "test_dataset.head()"
   ]
  }
 ],
 "metadata": {
  "colab": {
   "collapsed_sections": [],
   "name": "regression.ipynb",
   "toc_visible": true
  },
  "kernelspec": {
   "display_name": "Python 3",
   "language": "python",
   "name": "python3"
  },
  "language_info": {
   "codemirror_mode": {
    "name": "ipython",
    "version": 3
   },
   "file_extension": ".py",
   "mimetype": "text/x-python",
   "name": "python",
   "nbconvert_exporter": "python",
   "pygments_lexer": "ipython3",
   "version": "3.8.5"
  }
 },
 "nbformat": 4,
 "nbformat_minor": 1
}
